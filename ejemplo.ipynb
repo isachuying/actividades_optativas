{
 "cells": [
  {
   "cell_type": "markdown",
   "metadata": {},
   "source": [
    "# Mi primer Notebook!"
   ]
  },
  {
   "cell_type": "code",
   "execution_count": null,
   "metadata": {},
   "outputs": [],
   "source": [
    "2do B. Ji Chen Chuying"
   ]
  },
  {
   "cell_type": "code",
   "execution_count": 1,
   "metadata": {},
   "outputs": [
    {
     "name": "stdout",
     "output_type": "stream",
     "text": [
      "Hola Mundo\n"
     ]
    }
   ],
   "source": [
    "print(\"Hola Mundo\")"
   ]
  },
  {
   "cell_type": "markdown",
   "metadata": {},
   "source": [
    "## Mis primeros descriptivos con Pandas"
   ]
  },
  {
   "cell_type": "markdown",
   "metadata": {},
   "source": [
    "Importa la librería Pandas y la asigna al alias \"pd\" para su uso en el código."
   ]
  },
  {
   "cell_type": "code",
   "execution_count": null,
   "metadata": {},
   "outputs": [],
   "source": [
    "import pandas as pd\n",
    "# Importa la biblioteca Pandas con el alias 'pd'.\n",
    "# Pandas es una biblioteca poderosa para la manipulación y análisis de datos en Python.\n",
    "# Usar un alias como 'pd' es una convención común que hace que el código sea más limpio y fácil de escribir."
   ]
  },
  {
   "cell_type": "markdown",
   "metadata": {},
   "source": [
    "Crea un DataFrame de pandas llamado df con dos columnas: \"edad\" y \"peso\", y sus respectivos datos."
   ]
  },
  {
   "cell_type": "code",
   "execution_count": 11,
   "metadata": {},
   "outputs": [],
   "source": [
    "# Crear un diccionario llamado 'datos' con dos claves: 'edad' y 'peso'.\n",
    "# Cada clave contiene una lista de valores.\n",
    "\n",
    "datos = {\n",
    "    'edad' : [8, 9, 10, 11, 12],\n",
    "    'peso' : [30, 32, 35, 37, 40]\n",
    "}\n",
    "# Crear un DataFrame de pandas a partir del diccionario 'datos'.\n",
    "# Esto organiza los datos en una estructura tabular similar a una hoja de cálculo.\n",
    "df = pd.DataFrame(datos)\n",
    " # Utiliza la biblioteca pandas para convertir el diccionario en un DataFrame, que facilita la manipulación y análisis de los datos."
   ]
  },
  {
   "cell_type": "markdown",
   "metadata": {},
   "source": [
    "Calcula y muestra la media y desviación típica de las columnas \"edad\" y \"peso\" de un DataFrame."
   ]
  },
  {
   "cell_type": "code",
   "execution_count": 16,
   "metadata": {},
   "outputs": [
    {
     "name": "stdout",
     "output_type": "stream",
     "text": [
      "Media de Edad: 10.0\n",
      "Desviación Típica de Edad: 1.5811388300841898\n",
      "Media de Peso: 34.8\n",
      "Desviación Típica de Peso: 3.9623225512317903\n"
     ]
    }
   ],
   "source": [
    "# Se calcula la media (promedio) de la columna 'edad' en el DataFrame 'df' y se asigna a la variable 'media_edad'.\n",
    "media_edad = df['edad'].mean()\n",
    "# Se calcula la desviación típica (desviación estándar) de la columna 'edad' en el DataFrame 'df' y se asigna a la variable 'desviacion_tipica_edad'.\n",
    "desviacion_tipica_edad = df['edad'].std()\n",
    "# Se calcula la media (promedio) de la columna 'peso' en el DataFrame 'df' y se asigna a la variable 'media_peso'.\n",
    "media_peso = df['peso'].mean()\n",
    "# Se calcula la desviación típica (desviación estándar) de la columna 'peso' en el DataFrame 'df' y se asigna a la variable 'desviacion_tipica_peso'.\n",
    "desviacion_tipica_peso = df['peso'].std()\n",
    "# Se imprime el valor de la media de la edad.\n",
    "print(\"Media de Edad:\", media_edad)\n",
    "# Se imprime el valor de la desviación típica de la edad.\n",
    "print(\"Desviación Típica de Edad:\", desviacion_tipica_edad)\n",
    "# Se imprime el valor de la media del peso.\n",
    "print(\"Media de Peso:\", media_peso)\n",
    "# Se imprime el valor de la desviación típica del peso.\n",
    "print(\"Desviación Típica de Peso:\", desviacion_tipica_peso)\n"
   ]
  }
 ],
 "metadata": {
  "kernelspec": {
   "display_name": "Python 3",
   "language": "python",
   "name": "python3"
  },
  "language_info": {
   "codemirror_mode": {
    "name": "ipython",
    "version": 3
   },
   "file_extension": ".py",
   "mimetype": "text/x-python",
   "name": "python",
   "nbconvert_exporter": "python",
   "pygments_lexer": "ipython3",
   "version": "3.11.9"
  }
 },
 "nbformat": 4,
 "nbformat_minor": 2
}
